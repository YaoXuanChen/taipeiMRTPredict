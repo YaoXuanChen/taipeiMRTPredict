{
 "cells": [
  {
   "cell_type": "code",
   "execution_count": 1,
   "id": "4939f365",
   "metadata": {},
   "outputs": [],
   "source": [
    "import pandas as pd\n",
    "import csv"
   ]
  },
  {
   "cell_type": "code",
   "execution_count": 2,
   "id": "3070b039",
   "metadata": {},
   "outputs": [
    {
     "name": "stdout",
     "output_type": "stream",
     "text": [
      "         西元日期  是否放假\n",
      "0    20200101     1\n",
      "1    20200102     0\n",
      "2    20200103     0\n",
      "3    20200104     1\n",
      "4    20200105     1\n",
      "..        ...   ...\n",
      "877  20220527     0\n",
      "878  20220528     1\n",
      "879  20220529     1\n",
      "880  20220530     0\n",
      "881  20220531     0\n",
      "\n",
      "[882 rows x 2 columns]\n"
     ]
    },
    {
     "name": "stderr",
     "output_type": "stream",
     "text": [
      "/var/folders/hw/zh779xtd26z7k6xftw1w433m0000gn/T/ipykernel_3486/228486726.py:22: SettingWithCopyWarning: \n",
      "A value is trying to be set on a copy of a slice from a DataFrame\n",
      "\n",
      "See the caveats in the documentation: https://pandas.pydata.org/pandas-docs/stable/user_guide/indexing.html#returning-a-view-versus-a-copy\n",
      "  hd_flag[i]=1\n"
     ]
    }
   ],
   "source": [
    "# 人事行政局行事曆資料處理\n",
    "# 讀取109~111年人事行政局行事曆，並將它們合併\n",
    "df109=pd.read_csv('109_worklist.csv',encoding='utf-8-sig')\n",
    "df110=pd.read_csv('110_worklist.csv',encoding='utf-8-sig')\n",
    "df111=pd.read_csv('111_worklist.csv',encoding='utf-8-sig')\n",
    "df_0910=df109.append(df110,ignore_index = True)\n",
    "df_outer=df_0910.append(df111,ignore_index = True)\n",
    "\n",
    "\n",
    "# 放假欄位更新，放假 = 1，平日 = 0\n",
    "i=0\n",
    "date=df_outer['西元日期']\n",
    "hd_flag=df_outer['是否放假']\n",
    "holiday=[]\n",
    "holidays=0\n",
    "ym=''\n",
    "last_ym=''\n",
    "\n",
    "for i in range(df_outer.shape[0]):\n",
    "\n",
    "    if hd_flag[i]==2:\n",
    "        hd_flag[i]=1\n",
    "    continue\n",
    "\n",
    "# 只需輸出\"西元日期\"跟\"是否放假\"兩個欄位\n",
    "df_outer_1=df_outer.loc[:,['西元日期','是否放假']]\n",
    "print(df_outer_1)\n",
    "# 行事曆輸出成csv檔\n",
    "df_outer_1.to_csv('109_111_workcale.csv',encoding='utf-8-sig',index=False)"
   ]
  },
  {
   "cell_type": "code",
   "execution_count": 3,
   "id": "2b0016b2",
   "metadata": {},
   "outputs": [
    {
     "name": "stdout",
     "output_type": "stream",
     "text": [
      "0           區域 新增確診人數\n",
      "個案研判日                \n",
      "2020-03-20  全區      2\n",
      "2020-03-22  全區      1\n",
      "2020-03-26  全區      1\n",
      "2020-03-31  全區      1\n",
      "2020-04-02  全區      1\n",
      "...         ..    ...\n",
      "2022-06-05  全區   3192\n",
      "2022-06-06  全區   4982\n",
      "2022-06-07  全區   4753\n",
      "2022-06-08  全區   4833\n",
      "2022-06-09  全區   4891\n",
      "\n",
      "[241 rows x 2 columns]\n"
     ]
    }
   ],
   "source": [
    "# 109~111年台北市確診人數資料處理\n",
    "# 讀取確診資料\n",
    "with open('export.csv',encoding='utf-8-sig') as f:  \n",
    "    data=list(csv.reader(f))\n",
    "\n",
    "df=pd.DataFrame(data)\n",
    "df.columns=df.loc[0]\n",
    "df=df.drop(0)\n",
    "\n",
    "# 刪除不需要的欄位\n",
    "df=df.drop(['id','個案公佈日','累計確診人數','縣市別'],axis=1)\n",
    "x=df[df['區域']!='全區'].index\n",
    "df=df.drop(x,axis=0)\n",
    "df.reset_index(drop=True,inplace=True)\n",
    "df.set_index('個案研判日',inplace=True)\n",
    "df.index=pd.to_datetime(df.index)\n",
    "\n",
    "# 僅留\"區域\"跟\"新增確診人數\"輸出csv\n",
    "df_covid=df.iloc[::-1]\n",
    "print(df_covid)\n",
    "df_covid.to_csv('109_111_covid.csv',encoding='utf-8-sig',index=False)\n"
   ]
  },
  {
   "cell_type": "code",
   "execution_count": null,
   "id": "847db762",
   "metadata": {},
   "outputs": [],
   "source": []
  }
 ],
 "metadata": {
  "kernelspec": {
   "display_name": "Python 3 (ipykernel)",
   "language": "python",
   "name": "python3"
  },
  "language_info": {
   "codemirror_mode": {
    "name": "ipython",
    "version": 3
   },
   "file_extension": ".py",
   "mimetype": "text/x-python",
   "name": "python",
   "nbconvert_exporter": "python",
   "pygments_lexer": "ipython3",
   "version": "3.9.7"
  }
 },
 "nbformat": 4,
 "nbformat_minor": 5
}
